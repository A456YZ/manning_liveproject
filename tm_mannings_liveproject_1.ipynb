{
 "cells": [
  {
   "cell_type": "code",
   "execution_count": 1,
   "metadata": {},
   "outputs": [],
   "source": [
    "from tensorflow.keras.datasets import imdb\n",
    "import numpy as np\n",
    "import seaborn as sns\n",
    "import matplotlib.pyplot as plt\n",
    "from collections import Counter"
   ]
  },
  {
   "cell_type": "code",
   "execution_count": 2,
   "metadata": {},
   "outputs": [],
   "source": [
    "(x_train, y_train), (x_test, y_test) = imdb.load_data(\n",
    "    path = \"imdb.npz\",\n",
    "    num_words = None,\n",
    "    skip_top = 0,\n",
    "    maxlen = None,\n",
    "    seed = 113,\n",
    "    start_char = 1,\n",
    "    oov_char = 2,\n",
    "    index_from = 3)"
   ]
  },
  {
   "cell_type": "code",
   "execution_count": 3,
   "metadata": {},
   "outputs": [],
   "source": [
    "word_index = imdb.get_word_index(path = 'imdb_word_index.json')"
   ]
  },
  {
   "cell_type": "code",
   "execution_count": 4,
   "metadata": {},
   "outputs": [
    {
     "data": {
      "text/plain": [
       "1"
      ]
     },
     "execution_count": 4,
     "metadata": {},
     "output_type": "execute_result"
    }
   ],
   "source": [
    "# examine the data structure.\n",
    "\n",
    "x_train.shape\n",
    "y_train.shape\n",
    "\n",
    "x_test.shape\n",
    "y_test.shape\n",
    "\n",
    "x_train[0]\n",
    "y_train[0]"
   ]
  },
  {
   "cell_type": "code",
   "execution_count": 5,
   "metadata": {},
   "outputs": [
    {
     "name": "stdout",
     "output_type": "stream",
     "text": [
      "The most frequent length for positive reviews is 125 and it occurs 183 times.\n"
     ]
    }
   ],
   "source": [
    "# 4. Identify positive reviews in the dataset\n",
    "\n",
    "import numpy as np\n",
    "\n",
    "train_pos = x_train[y_train == 1]\n",
    "test_pos = x_test[y_test == 1]\n",
    "all_pos = np.concatenate((train_pos, test_pos))\n",
    "\n",
    "all_lengths = []\n",
    "\n",
    "for i in range(len(all_pos)):\n",
    "    all_lengths = all_lengths + [len(all_pos[i])]\n",
    "\n",
    "cnt = Counter()\n",
    "\n",
    "for l in all_lengths:\n",
    "    cnt[l] += 1\n",
    "\n",
    "positive_review_length = cnt.copy()\n",
    "\n",
    "max_val = max(positive_review_length.values())\n",
    "\n",
    "freq_len = list(positive_review_length.keys())[list(positive_review_length.values()).index(max_val)]\n",
    "\n",
    "print(\"The most frequent length for positive reviews is\", freq_len,\n",
    "      \"and it occurs\", max_val, \"times.\")"
   ]
  },
  {
   "cell_type": "code",
   "execution_count": 6,
   "metadata": {},
   "outputs": [
    {
     "name": "stdout",
     "output_type": "stream",
     "text": [
      "The most frequent length for positive reviews is 128 and it occurs 201 times.\n"
     ]
    }
   ],
   "source": [
    "# negative reviews\n",
    "\n",
    "train_neg = x_train[y_train == 0]\n",
    "test_neg = x_test[y_test == 0]\n",
    "all_neg = np.concatenate((train_neg, test_neg))\n",
    "\n",
    "all_lengths_n = []\n",
    "\n",
    "for i in range(len(all_neg)):\n",
    "    all_lengths_n = all_lengths_n + [len(all_neg[i])]\n",
    "\n",
    "cnt = Counter()\n",
    "\n",
    "for l in all_lengths_n:\n",
    "    cnt[l] += 1\n",
    "\n",
    "negative_review_length = cnt.copy()\n",
    "\n",
    "max_val = max(negative_review_length.values())\n",
    "\n",
    "freq_len = list(negative_review_length.keys())[list(negative_review_length.values()).index(max_val)]\n",
    "\n",
    "print(\"The most frequent length for positive reviews is\", freq_len,\n",
    "      \"and it occurs\", max_val, \"times.\")"
   ]
  },
  {
   "cell_type": "code",
   "execution_count": 7,
   "metadata": {},
   "outputs": [
    {
     "data": {
      "image/png": "[encoded data removed]",
      "text/plain": [
       "<Figure size 432x288 with 1 Axes>"
      ]
     },
     "metadata": {},
     "output_type": "display_data"
    }
   ],
   "source": [
    "# 5. Find the distribution of word count in positive and negative reviews.\n",
    "sns.set_style(\"darkgrid\")\n",
    "\n",
    "fig,ax = plt.subplots()\n",
    "sns.distplot(all_lengths, label = \"positive_review_length\")\n",
    "sns.distplot(all_lengths_n, label = \"negative_review_length\")\n",
    "ax.legend()\n",
    "ax.set(xlabel='total word count', ylabel = 'frequency of occurence')\n",
    "plt.show()"
   ]
  }
 ],
 "metadata": {
  "kernelspec": {
   "display_name": "Python 3",
   "language": "python",
   "name": "python3"
  },
  "language_info": {
   "codemirror_mode": {
    "name": "ipython",
    "version": 3
   },
   "file_extension": ".py",
   "mimetype": "text/x-python",
   "name": "python",
   "nbconvert_exporter": "python",
   "pygments_lexer": "ipython3",
   "version": "3.7.6"
  }
 },
 "nbformat": 4,
 "nbformat_minor": 4
}
